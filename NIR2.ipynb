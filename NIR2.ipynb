{
 "cells": [
  {
   "cell_type": "code",
   "execution_count": 3,
   "metadata": {},
   "outputs": [],
   "source": [
    "def get_methods(object, spacing=20):\n",
    "  methodList = []\n",
    "  for method_name in dir(object):\n",
    "    try:\n",
    "        if callable(getattr(object, method_name)):\n",
    "            methodList.append(str(method_name))\n",
    "    except Exception:\n",
    "        methodList.append(str(method_name))\n",
    "  processFunc = (lambda s: ' '.join(s.split())) or (lambda s: s)\n",
    "  for method in methodList:\n",
    "    try:\n",
    "        print(str(method.ljust(spacing)) + ' ' +\n",
    "              processFunc(str(getattr(object, method).__doc__)[0:90]))\n",
    "    except Exception:\n",
    "        print(method.ljust(spacing) + ' ' + ' getattr() failed')"
   ]
  },
  {
   "cell_type": "code",
   "execution_count": 9,
   "metadata": {},
   "outputs": [
    {
     "name": "stdout",
     "output_type": "stream",
     "text": [
      "B0('9-16')\n"
     ]
    }
   ],
   "source": [
    "import math\n",
    "import sklearn\n",
    "import pandas as pd\n",
    "import numpy as np\n",
    "import pylab as pl\n",
    "from sklearn import preprocessing\n",
    "import seaborn as sns\n",
    "import openpyxl as opx\n",
    "\n",
    "df = pd.read_excel('Voltage_BOI_3.xlsx')\n"
   ]
  },
  {
   "cell_type": "markdown",
   "metadata": {},
   "source": [
    "ADVANCED READ"
   ]
  },
  {
   "cell_type": "code",
   "execution_count": 36,
   "metadata": {},
   "outputs": [
    {
     "name": "stdout",
     "output_type": "stream",
     "text": [
      "[array([9.000e-04, 8.000e-04, 1.400e-03, ...,       nan,       nan,\n",
      "       2.328e+01]), array([1.400e-03, 1.900e-03, 3.600e-03, ...,       nan,       nan,\n",
      "       1.026e+01]), array([4.700e-03, 9.100e-03, 2.210e-02, ...,       nan,       nan,\n",
      "       3.607e+01]), array([8.000e-04, 4.000e-04, 6.000e-04, ...,       nan,       nan,\n",
      "       1.025e+01]), array([1.500e-03, 8.000e-04, 1.400e-03, ...,       nan,       nan,\n",
      "       1.065e+01]), array([2.00e-03, 7.00e-04, 1.20e-03, ...,      nan,      nan, 4.13e+00]), array([3.80e-03, 7.30e-03, 1.61e-02, ...,      nan,      nan, 1.44e+01]), array([7.500e-03, 4.600e-03, 2.500e-03, ...,       nan,       nan,\n",
      "       4.684e+01]), array([1.300e-03, 4.000e-03, 9.400e-03, ...,       nan,       nan,\n",
      "       2.063e+01]), array([1.30e-03, 1.10e-03, 2.70e-03, ...,      nan,      nan, 5.63e+00])]\n",
      "[\"C('10-24')\", \"C('11-04')\", \"C('11-13')\", \"C('10-21')\", \"C('10-28')\", \"C('11-12')\", \"C('11-20')\", \"C('10-30')\", \"C(11-06')\", \"C('11-11')\"]\n"
     ]
    }
   ],
   "source": [
    "#57 cols - 2\n",
    "cameraData = [[], [], [], [], [], []]              \n",
    "cameraDate = [[], [], [], [], [], []]      #[['A0'], ['B0'], ['C0'], ['A'], ['B'], ['C']]\n",
    "\n",
    "for i in range (0, len(df.columns)-3): \n",
    "    if (\"A0\" in str(df.iloc[:, i].name)):\n",
    "        cameraData[0].append(np.array(df.iloc[:, i]))\n",
    "        cameraDate[0].append(df.iloc[:, i].name)\n",
    "    if (\"B0\" in str(df.iloc[:, i].name)):\n",
    "        cameraData[1].append(np.array(df.iloc[:, i]))\n",
    "        cameraDate[1].append(df.iloc[:, i].name)\n",
    "    if (\"C0\" in str(df.iloc[:, i].name)):\n",
    "        cameraData[2].append(np.array(df.iloc[:, i]))\n",
    "        cameraDate[2].append(df.iloc[:, i].name)\n",
    "    if (\"A\" in str(df.iloc[:, i].name) and \"A0\" not in str(df.iloc[:, i].name)):    #A \n",
    "        cameraData[3].append(np.array(df.iloc[:, i]))\n",
    "        cameraDate[3].append(df.iloc[:, i].name)\n",
    "    if (\"B\" in str(df.iloc[:, i].name) and \"B0\" not in str(df.iloc[:, i].name)):    #B\n",
    "        cameraData[4].append(np.array(df.iloc[:, i]))\n",
    "        cameraDate[4].append(df.iloc[:, i].name)\n",
    "    if (\"C\" in str(df.iloc[:, i].name) and \"C0\" not in str(df.iloc[:, i].name)):\n",
    "        cameraData[5].append(np.array(df.iloc[:, i]))\n",
    "        cameraDate[5].append(df.iloc[:, i].name)\n",
    "print(cameraData[5])\n",
    "print(cameraDate[5])"
   ]
  },
  {
   "cell_type": "code",
   "execution_count": 90,
   "metadata": {},
   "outputs": [
    {
     "name": "stdout",
     "output_type": "stream",
     "text": [
      "__add__              Return self+value.\n",
      "__class__            Built-in mutable sequence. If no argument is given, the constructor creates a new empty l\n",
      "__class_getitem__    See PEP 585\n",
      "__contains__         Return key in self.\n",
      "__delattr__          Implement delattr(self, name).\n",
      "__delitem__          Delete self[key].\n",
      "__dir__              Default dir() implementation.\n",
      "__eq__               Return self==value.\n",
      "__format__           Default object formatter.\n",
      "__ge__               Return self>=value.\n",
      "__getattribute__     Return getattr(self, name).\n",
      "__getitem__          x.__getitem__(y) <==> x[y]\n",
      "__getstate__         Helper for pickle.\n",
      "__gt__               Return self>value.\n",
      "__iadd__             Implement self+=value.\n",
      "__imul__             Implement self*=value.\n",
      "__init__             Initialize self. See help(type(self)) for accurate signature.\n",
      "__init_subclass__    This method is called when a class is subclassed. The default implementation does nothing\n",
      "__iter__             Implement iter(self).\n",
      "__le__               Return self<=value.\n",
      "__len__              Return len(self).\n",
      "__lt__               Return self<value.\n",
      "__mul__              Return self*value.\n",
      "__ne__               Return self!=value.\n",
      "__new__              Create and return a new object. See help(type) for accurate signature.\n",
      "__reduce__           Helper for pickle.\n",
      "__reduce_ex__        Helper for pickle.\n",
      "__repr__             Return repr(self).\n",
      "__reversed__         Return a reverse iterator over the list.\n",
      "__rmul__             Return value*self.\n",
      "__setattr__          Implement setattr(self, name, value).\n",
      "__setitem__          Set self[key] to value.\n",
      "__sizeof__           Return the size of the list in memory, in bytes.\n",
      "__str__              Return str(self).\n",
      "__subclasshook__     Abstract classes can override this to customize issubclass(). This is invoked early on by\n",
      "append               Append object to the end of the list.\n",
      "clear                Remove all items from list.\n",
      "copy                 Return a shallow copy of the list.\n",
      "count                Return number of occurrences of value.\n",
      "extend               Extend list by appending elements from the iterable.\n",
      "index                Return first index of value. Raises ValueError if the value is not present.\n",
      "insert               Insert object before index.\n",
      "pop                  Remove and return item at index (default last). Raises IndexError if list is empty or ind\n",
      "remove               Remove first occurrence of value. Raises ValueError if the value is not present.\n",
      "reverse              Reverse *IN PLACE*.\n",
      "sort                 Sort the list in ascending order and return None. The sort is in-place (i.e. the list its\n"
     ]
    }
   ],
   "source": [
    "get_methods(cameraData[0])"
   ]
  }
 ],
 "metadata": {
  "kernelspec": {
   "display_name": "Python 3.11.0 64-bit",
   "language": "python",
   "name": "python3"
  },
  "language_info": {
   "codemirror_mode": {
    "name": "ipython",
    "version": 3
   },
   "file_extension": ".py",
   "mimetype": "text/x-python",
   "name": "python",
   "nbconvert_exporter": "python",
   "pygments_lexer": "ipython3",
   "version": "3.11.0"
  },
  "orig_nbformat": 4,
  "vscode": {
   "interpreter": {
    "hash": "648f154d1f608ebe6d7c9d2d3cbc30a6a4a7f2b9b1f7761ed1ad3a54706e0bef"
   }
  }
 },
 "nbformat": 4,
 "nbformat_minor": 2
}
